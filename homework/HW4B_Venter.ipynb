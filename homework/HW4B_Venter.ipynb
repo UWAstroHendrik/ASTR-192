{
 "cells": [
  {
   "cell_type": "markdown",
   "metadata": {
    "deletable": true,
    "editable": true
   },
   "source": [
    "**<font color='red'>Change the name from assignment_lastname to include YOUR last name</font>**. This will make sure that the assignment doesn't get overwritten when you do a git pull in class. "
   ]
  },
  {
   "cell_type": "markdown",
   "metadata": {
    "deletable": true,
    "editable": true
   },
   "source": [
    "# Homework 4B - the coding portion"
   ]
  },
  {
   "cell_type": "markdown",
   "metadata": {
    "deletable": true,
    "editable": true
   },
   "source": [
    "## Due: Friday, October 18 by 5pm"
   ]
  },
  {
   "cell_type": "markdown",
   "metadata": {
    "deletable": true,
    "editable": true
   },
   "source": [
    "Skills: Loops, lists, functions"
   ]
  },
  {
   "cell_type": "markdown",
   "metadata": {
    "deletable": true,
    "editable": true
   },
   "source": [
    "Turn in instructions:\n",
    "1. Before turning in your notebook, make sure you save it first using the floppy disk save icon or File -> save.\n",
    "2. Go to the terminal, open a new tab or window and cd into the directory where you worked on this homework. For most of you that should be ~/PreMAP2019/homework/\n",
    "3. Use the cp command to copy your homework (HW4B_lastname.ipynb) into /astro/store/gradscratch/tmp/premap2019/homework4/"
   ]
  },
  {
   "cell_type": "markdown",
   "metadata": {
    "deletable": true,
    "editable": true
   },
   "source": [
    "Always start with your import statement!"
   ]
  },
  {
   "cell_type": "code",
   "execution_count": 1,
   "metadata": {
    "collapsed": false,
    "deletable": true,
    "editable": true
   },
   "outputs": [],
   "source": [
    "import numpy as np"
   ]
  },
  {
   "cell_type": "markdown",
   "metadata": {
    "deletable": true,
    "editable": true
   },
   "source": [
    "### The exercises in this homework will be related to the reading you did in part A of Homework 4. You can reference the Nature news article  [here](https://www.nature.com/articles/d41586-019-01155-0) and the Astrophysical Journal article  [here](https://drive.google.com/file/d/1nECCmOXoe5S5lc69YEvzCcJm8Zz25Zgj/view?usp=sharing)."
   ]
  },
  {
   "cell_type": "markdown",
   "metadata": {
    "deletable": true,
    "editable": true
   },
   "source": [
    "**Please read before completing exercise 1**\n",
    "Functions are a really useful tool for automating tasks that you want to do over and over again. For this first excercise, we will be building up to writing a function that calculates the Schwartzchild radius, or the size of the event horizon, of a black hole. You can read up a bit more on the Schwartzchild radius [here](http://www.astronomy.ohio-state.edu/~thompson/1144/Lecture19.html) if you would like. The only thing you're really going to need to know is the equation use to calculate the Schwartzchild radius: <br>\n",
    "$R_{S} = \\frac{2\\ G\\ M_{BH}}{c^{2}}$ <br>\n",
    "Where $R_{S}$ is the Schwartzchild radius, or radius of the event horizon. $G$ is the gravitational constant, a physical constant used to calculate gravitational effects. $M_{BH}$ is the mass of the black hole and $c$ is the speed of light, another physical constant."
   ]
  },
  {
   "cell_type": "markdown",
   "metadata": {
    "deletable": true,
    "editable": true
   },
   "source": [
    "First, we need to define our constants: $G$ and $c$. I'm putting in the values for you below, you just need to execute the cell. Note that astronomers use a base set of units called ``cgs``, short for centimeters-grams-seconds. Many of you might be familiar with SI units from a physics class which uses meters-kilograms-seconds. We keep all constants in the same base units to avoid doing too much unit conversion."
   ]
  },
  {
   "cell_type": "code",
   "execution_count": 2,
   "metadata": {
    "collapsed": true,
    "deletable": true,
    "editable": true
   },
   "outputs": [],
   "source": [
    "G = 6.6725985E-8 #cm^3 g^-1 s^-2\n",
    "c = 2.99792458E10 #cm s^-1"
   ]
  },
  {
   "cell_type": "markdown",
   "metadata": {
    "deletable": true,
    "editable": true
   },
   "source": [
    "**1)**\n",
    "Use the equation above to calculate the size of the Schwartzchild radius for a black hole with a mass of 10$M_{\\odot}$. Note that $1 M_{\\odot}=1.99 \\times 10^{33}$ grams. You will need to multiply 10 by this conversion factor to use the constants above and have your units work out."
   ]
  },
  {
   "cell_type": "code",
   "execution_count": 3,
   "metadata": {
    "collapsed": false,
    "deletable": true,
    "editable": true
   },
   "outputs": [
    {
     "name": "stdout",
     "output_type": "stream",
     "text": [
      "1.99e+33 1.99e+34\n",
      "2954858.303829219\n"
     ]
    }
   ],
   "source": [
    "mass_of_sun = 1.99E33\n",
    "#solar_mass = 1 * mass_of_sun\n",
    "mass_of_blackhole = mass_of_sun * 10\n",
    "print(mass_of_sun, mass_of_blackhole)\n",
    "\n",
    "R_s = (2*G*mass_of_blackhole)/(c**2)\n",
    "print(R_s)"
   ]
  },
  {
   "cell_type": "markdown",
   "metadata": {
    "deletable": true,
    "editable": true
   },
   "source": [
    "**2)**\n",
    "Write a function called `schwartzchild_radius` that takes in a black hole mass and returns the Schwartzchild radius in centimeters. Please refer to our in class notebook on functions if you need to remember the structure a function has in python. Run your function and print out the Schwartzchild radius of a black hole with a mass of $1M_{\\odot}$."
   ]
  },
  {
   "cell_type": "code",
   "execution_count": 4,
   "metadata": {
    "collapsed": false,
    "deletable": true,
    "editable": true
   },
   "outputs": [],
   "source": [
    "def schwartzchild_radius(mass_of_blackhole):\n",
    "        \n",
    "    mass_of_blackhole = mass_of_blackhole * 1.99E33\n",
    "\n",
    "    R_s = (2 * G * mass_of_blackhole) / (c**2)\n",
    "    \n",
    "    return R_s"
   ]
  },
  {
   "cell_type": "code",
   "execution_count": 5,
   "metadata": {
    "collapsed": false,
    "deletable": true,
    "editable": true
   },
   "outputs": [
    {
     "name": "stdout",
     "output_type": "stream",
     "text": [
      "295485.8303829219\n"
     ]
    }
   ],
   "source": [
    "print(schwartzchild_radius(1))"
   ]
  },
  {
   "cell_type": "markdown",
   "metadata": {
    "deletable": true,
    "editable": true
   },
   "source": [
    "**3)** Copy your function into the cell below and modify it so that it prints out the Schwartzchild radius to screen in both cm and solar radii (X times the radius of the Sun). *Hint: $1 R_{\\odot}=6.96 \\times 10^{10}$ cm.*"
   ]
  },
  {
   "cell_type": "code",
   "execution_count": 6,
   "metadata": {
    "collapsed": false,
    "deletable": true,
    "editable": true
   },
   "outputs": [],
   "source": [
    "def schwartzchild_radius(mass_of_blackhole):\n",
    "        \n",
    "#s_m = solar_mass\n",
    "    mass_of_blackhole = (mass_of_blackhole) * (1.99E33)\n",
    "\n",
    "    R_s = (2 * G * mass_of_blackhole) / (c**2)\n",
    "    R_s_s = R_s / (6.96E10)\n",
    "    \n",
    "    return R_s, R_s_s"
   ]
  },
  {
   "cell_type": "code",
   "execution_count": 7,
   "metadata": {
    "collapsed": false,
    "deletable": true,
    "editable": true
   },
   "outputs": [
    {
     "name": "stdout",
     "output_type": "stream",
     "text": [
      "(295485.8303829219, 4.2454860687201425e-06)\n"
     ]
    }
   ],
   "source": [
    "print(schwartzchild_radius(1))"
   ]
  },
  {
   "cell_type": "markdown",
   "metadata": {
    "deletable": true,
    "editable": true
   },
   "source": [
    "**4)** Now imagine that we could make a black hole out of the Earth (we can't). The mass of the Earth is $5.9 \\times 10^{27}$ grams. Calculate what the Earth's mass is in terms of solar masses and the use your function to calculate the Schwartzchild radius the Earth would have if it could collapse into a black hole. Google around to find some physical item you are familiar with that is about the same size."
   ]
  },
  {
   "cell_type": "code",
   "execution_count": 8,
   "metadata": {
    "collapsed": false,
    "deletable": true,
    "editable": true
   },
   "outputs": [
    {
     "data": {
      "text/plain": [
       "(0.8760635172156983, 1.258711950022555e-11)"
      ]
     },
     "execution_count": 8,
     "metadata": {},
     "output_type": "execute_result"
    }
   ],
   "source": [
    "mass_of_earth = 5.9E27 / 1.99E33 \n",
    "schwartzchild_radius(mass_of_earth)"
   ]
  },
  {
   "cell_type": "markdown",
   "metadata": {
    "deletable": true,
    "editable": true
   },
   "source": [
    "**5)**\n",
    "The mass of the black hole in the center of M87 that was measured by the Event Horizon Telescope team is $6.5\\times 10^{9} M_{\\odot}$. Calculate the radius of the event horizon for this black hole in both centimeters and solar radii."
   ]
  },
  {
   "cell_type": "code",
   "execution_count": 9,
   "metadata": {
    "collapsed": false,
    "deletable": true,
    "editable": true
   },
   "outputs": [
    {
     "data": {
      "text/plain": [
       "(1920657897488992.5, 27595.659446680926)"
      ]
     },
     "execution_count": 9,
     "metadata": {},
     "output_type": "execute_result"
    }
   ],
   "source": [
    "m87_blackhole = 6.5E9  \n",
    "\n",
    "schwartzchild_radius(m87_blackhole)"
   ]
  },
  {
   "cell_type": "markdown",
   "metadata": {
    "deletable": true,
    "editable": true
   },
   "source": [
    "**6)** The ring diameter in the paper is given as ~$42 \\mu$as, or 42 micro-arcseconds. An arcsecond is a unit we us in astronomy to measure how big something looks on the sky. The size of an object in the sky depends on both the size of the object itself and its distance away from us. You can calculate the angular size of an object using the following equation: <br>\n",
    "$\\theta = \\frac{d\\ \\times\\ 206264}{D}$ arcseconds<br>\n",
    "Where $\\theta$ is the angular size of the object in arcseconds. The factor of 206,264 in the equation converts from radians to arcseconds for you. $d$ is the physical diameter of the object and D is the distance to that object. You need both $d$ and $D$ to be given in the same units. Here we will use centimeters. <br>\n",
    "\n",
    "Write a function called `angular_size` that takes in the DIAMETER (not the radius) of an object in centimeters and the distance to that object in centimeters and returns its angular size in arcseconds. The distance to M87 is ~ $5 \\times 10^{25}$ centimeters. Use your function to print out the angular size of the black hole in M87 in arcseconds. Use the radius you calculated in the question above and the distance to M87 listed above for your calculations."
   ]
  },
  {
   "cell_type": "code",
   "execution_count": 10,
   "metadata": {
    "collapsed": false,
    "deletable": true,
    "editable": true
   },
   "outputs": [],
   "source": [
    "def angular_size(d, D):\n",
    "    \n",
    "    angular_s = (d * 206264)/D\n",
    "    \n",
    "    return angular_s"
   ]
  },
  {
   "cell_type": "code",
   "execution_count": 11,
   "metadata": {
    "collapsed": false,
    "deletable": true,
    "editable": true
   },
   "outputs": [
    {
     "data": {
      "text/plain": [
       "1.584650322270678e-05"
      ]
     },
     "execution_count": 11,
     "metadata": {},
     "output_type": "execute_result"
    }
   ],
   "source": [
    "angular_size(2*(1920657897488992.5),5E25)"
   ]
  },
  {
   "cell_type": "markdown",
   "metadata": {
    "deletable": true,
    "editable": true
   },
   "source": [
    "**7)**\n",
    "How does this angular size compare to the ring diameter listed in the paper? If your answers don't match up, why not (look back at your reading questions from part A)? *Hint: $1 \\mu as = 1.0 \\times 10^{-6} as$* "
   ]
  },
  {
   "cell_type": "markdown",
   "metadata": {
    "deletable": true,
    "editable": true
   },
   "source": [
    "ring_diameter = 42 ± 3μas\n",
    "1μas = 1.0E-6\n",
    "I think that maybe I did something wrong with the way I convered my units or my computer is calculating the numbers incorrectly.I actually have no idea why they do not match up."
   ]
  },
  {
   "cell_type": "markdown",
   "metadata": {
    "deletable": true,
    "editable": true
   },
   "source": [
    "**8)** Add a doc-string to your function `schwartzchild_radius` with instructions for a future user (or future you!). Doc-strings are REALLY important when working on a long term research project. You will likely need to go back to code you write a couple of weeks/months/years ago and you need to understand what it does. In addition to adding doc-strings, make sure you comment your code. I always add comments with units for constants, because this can help clarify bugs later on! Check back to your functions notebook from class if you need to remember the syntax for adding a doc-string."
   ]
  },
  {
   "cell_type": "code",
   "execution_count": 12,
   "metadata": {
    "collapsed": false,
    "deletable": true,
    "editable": true
   },
   "outputs": [],
   "source": [
    "#This function calculates the schwartzchild radius of a black hole. It will take an input in the form of a mass (grams) and \n",
    "#output the radius in cm and solar_radii in cm.\n",
    "\n",
    "def schwartzchild_radius(mass_of_blackhole): #defying the function\n",
    "        \n",
    "    mass_of_blackhole = (mass_of_blackhole) * (1.99E33) #using the input we multiply the mass by the mass of the sun to get the mass\n",
    "    #of a blackhole in solar mass (cm)\n",
    "\n",
    "    R_s = (2 * G * mass_of_blackhole) / (c**2) #schwartzchild radius equation with two constants; gravitational (G) and speed of light (c)\n",
    "                                               #G = 6.6725985E-8 #cm^3 g^-1 s^-2\n",
    "                                               #c = 2.99792458E10 #cm s^-1\n",
    "        \n",
    "    R_s_s = R_s / (6.96E10) #convertion schwartzchild radius to solar radii\n",
    "    \n",
    "    return R_s, R_s_s #returing the values back"
   ]
  },
  {
   "cell_type": "markdown",
   "metadata": {
    "deletable": true,
    "editable": true
   },
   "source": [
    "Now use the Jupyter notebook help functionality to view your doc string for your new function! If you execute the cell below like you do when you're running code, the information in your doc-string should show up."
   ]
  },
  {
   "cell_type": "code",
   "execution_count": 13,
   "metadata": {
    "collapsed": false,
    "deletable": true,
    "editable": true
   },
   "outputs": [],
   "source": [
    "schwartzchild_radius?"
   ]
  },
  {
   "cell_type": "markdown",
   "metadata": {
    "deletable": true,
    "editable": true
   },
   "source": [
    "**9)**\n",
    "Now, let's incorporate some lists and loops to utilize our functions! Create a numpy array called `masses` that contains 10 values between 10 and 1,000,000 spaced logarithmically (there is a `numpy` function for this). These values will be the masses of 10 black holes, for which we want to calculate the Schwartzchild radius. <br>\n",
    "\n",
    "For this assignment you will create two different for loops in the cells below. Both loops will be `for` loops that run your `schwartzchild_radius` function on each black hole mass in the array you created above, assuming the masses are in solar mass units. You should include a `print` statement in each loop before you call the `schwartzchild_radius` function that prints out the current black hole mass. <br>\n",
    "\n",
    "Look back at the notebook titled `04-control_flow_Lastname` and scroll to Example 7. **First**, you will make a `for` loop that follows the syntax of the first loop in that example (`for period in orbital_periods:`). **Second**, you will make a `for` loop that follows the syntax in the next code cell (`for i in range(5):`) where the range is the length of your `masses` array."
   ]
  },
  {
   "cell_type": "code",
   "execution_count": 13,
   "metadata": {
    "collapsed": false,
    "deletable": true,
    "editable": true
   },
   "outputs": [
    {
     "name": "stdout",
     "output_type": "stream",
     "text": [
      "[  1.00000000e+01   3.59381366e+01   1.29154967e+02   4.64158883e+02\n",
      "   1.66810054e+03   5.99484250e+03   2.15443469e+04   7.74263683e+04\n",
      "   2.78255940e+05   1.00000000e+06]\n"
     ]
    }
   ],
   "source": [
    "masses = np.logspace(1.0,6.0,num=10)\n",
    "print(masses)"
   ]
  },
  {
   "cell_type": "code",
   "execution_count": 16,
   "metadata": {
    "collapsed": false,
    "deletable": true,
    "editable": true
   },
   "outputs": [
    {
     "name": "stdout",
     "output_type": "stream",
     "text": [
      "10.0 M⊙\n",
      "2954858.30383 cm\n",
      "4.245486e-05 R⊙\n",
      "\n",
      "35.938136638 M⊙\n",
      "10619210.1469 cm\n",
      "1.525749e-04 R⊙\n",
      "\n",
      "129.154966501 M⊙\n",
      "38163462.5248 cm\n",
      "5.483256e-04 R⊙\n",
      "\n",
      "464.158883361 M⊙\n",
      "137152373.08 cm\n",
      "1.970580e-03 R⊙\n",
      "\n",
      "1668.1005372 M⊙\n",
      "492900072.397 cm\n",
      "7.081898e-03 R⊙\n",
      "\n",
      "5994.84250319 M⊙\n",
      "1771391015.07 cm\n",
      "2.545102e-02 R⊙\n",
      "\n",
      "21544.3469003 M⊙\n",
      "6366049233.9 cm\n",
      "9.146622e-02 R⊙\n",
      "\n",
      "77426.3682681 M⊙\n",
      "22878394721.2 cm\n",
      "3.287126e-01 R⊙\n",
      "\n",
      "278255.940221 M⊙\n",
      "82220687555.1 cm\n",
      "1.181332e+00 R⊙\n",
      "\n",
      "1000000.0 M⊙\n",
      "295485830383.0 cm\n",
      "4.245486e+00 R⊙\n",
      "\n"
     ]
    }
   ],
   "source": [
    "for mass in masses:\n",
    "    \n",
    "    print(mass, 'M⊙')\n",
    "    str, x = schwartzchild_radius(mass)\n",
    "    print(str, 'cm')\n",
    "    print(format(x,'e'),'R⊙')\n",
    "    print('')"
   ]
  },
  {
   "cell_type": "code",
   "execution_count": 119,
   "metadata": {
    "collapsed": false,
    "deletable": true,
    "editable": true
   },
   "outputs": [
    {
     "name": "stdout",
     "output_type": "stream",
     "text": [
      "10.0\n",
      "2954858.30383\n",
      "4.24548606872e-05\n",
      "\n",
      "35.938136638\n",
      "10619210.1469\n",
      "0.000152574858433\n",
      "\n",
      "129.154966501\n",
      "38163462.5248\n",
      "0.000548325610988\n",
      "\n",
      "464.158883361\n",
      "137152373.08\n",
      "0.00197058007298\n",
      "\n",
      "1668.1005372\n",
      "492900072.397\n",
      "0.00708189759191\n",
      "\n",
      "5994.84250319\n",
      "1771391015.07\n",
      "0.0254510203315\n",
      "\n",
      "21544.3469003\n",
      "6366049233.9\n",
      "0.091466224625\n",
      "\n",
      "77426.3682681\n",
      "22878394721.2\n",
      "0.328712567834\n",
      "\n",
      "278255.940221\n",
      "82220687555.1\n",
      "1.18133171775\n",
      "\n",
      "1000000.0\n",
      "295485830383.0\n",
      "4.24548606872\n",
      "\n"
     ]
    }
   ],
   "source": [
    "for i in range(10):\n",
    "    \n",
    "    print(masses[i])\n",
    "    str, radii  = schwartzchild_radius(masses[i])\n",
    "    print(str)\n",
    "    print(radii)\n",
    "    print('')"
   ]
  },
  {
   "cell_type": "markdown",
   "metadata": {
    "deletable": true,
    "editable": true
   },
   "source": [
    "**10)**\n",
    "Now copy your second `for` loop from the previous question into the cell below and edit it so that you only print out the black hole mass for the even-indexed black hole masses (indexes of 0, 2, 4, ...). You still want to calculate the Schwartzchild radius for each black hole mass."
   ]
  },
  {
   "cell_type": "code",
   "execution_count": 140,
   "metadata": {
    "collapsed": false,
    "deletable": true,
    "editable": true
   },
   "outputs": [
    {
     "name": "stdout",
     "output_type": "stream",
     "text": [
      "10.0\n",
      "2954858.30383\n",
      "4.24548606872e-05\n",
      "\n",
      "10619210.1469\n",
      "0.000152574858433\n",
      "\n",
      "129.154966501\n",
      "38163462.5248\n",
      "0.000548325610988\n",
      "\n",
      "137152373.08\n",
      "0.00197058007298\n",
      "\n",
      "1668.1005372\n",
      "492900072.397\n",
      "0.00708189759191\n",
      "\n",
      "1771391015.07\n",
      "0.0254510203315\n",
      "\n",
      "21544.3469003\n",
      "6366049233.9\n",
      "0.091466224625\n",
      "\n",
      "22878394721.2\n",
      "0.328712567834\n",
      "\n",
      "278255.940221\n",
      "82220687555.1\n",
      "1.18133171775\n",
      "\n",
      "295485830383.0\n",
      "4.24548606872\n",
      "\n"
     ]
    }
   ],
   "source": [
    "for i in range(10):\n",
    "    if i % 2 == 0:\n",
    "        print(masses[i])\n",
    "    str, radii  = schwartzchild_radius(masses[i])\n",
    "    print(str)\n",
    "    print(radii)\n",
    "    print('')"
   ]
  },
  {
   "cell_type": "code",
   "execution_count": null,
   "metadata": {
    "collapsed": true,
    "deletable": true,
    "editable": true
   },
   "outputs": [],
   "source": []
  }
 ],
 "metadata": {
  "kernelspec": {
   "display_name": "Python [conda env:py36]",
   "language": "python",
   "name": "conda-env-py36-py"
  },
  "language_info": {
   "codemirror_mode": {
    "name": "ipython",
    "version": 3
   },
   "file_extension": ".py",
   "mimetype": "text/x-python",
   "name": "python",
   "nbconvert_exporter": "python",
   "pygments_lexer": "ipython3",
   "version": "3.6.2"
  }
 },
 "nbformat": 4,
 "nbformat_minor": 2
}
